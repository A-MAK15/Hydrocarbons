{
 "cells": [
  {
   "cell_type": "code",
   "execution_count": 271,
   "id": "220572b5-2b11-4a9e-9eac-8e3c0237ab53",
   "metadata": {},
   "outputs": [],
   "source": [
    "import pandas as pd\n",
    "import numpy as np\n",
    "from rdkit import Chem\n",
    "from rdkit.Chem import Descriptors\n",
    "from sklearn import model_selection\n",
    "from sklearn import linear_model\n",
    "from sklearn.model_selection import train_test_split\n",
    "from sklearn.metrics import mean_squared_error, r2_score\n",
    "import seaborn as sns"
   ]
  },
  {
   "cell_type": "markdown",
   "id": "eaa6fd8d-1637-4c69-9abc-741d4ff25f38",
   "metadata": {},
   "source": [
    "# Reading our csv file\n",
    "Reading our data in the csv file and outputting the first 5 records to see and gauge on how our data is structured."
   ]
  },
  {
   "cell_type": "code",
   "execution_count": 263,
   "id": "2a59c985-8b8b-4594-a6b6-fa5e1b8cbd9d",
   "metadata": {},
   "outputs": [
    {
     "data": {
      "text/html": [
       "<div>\n",
       "<style scoped>\n",
       "    .dataframe tbody tr th:only-of-type {\n",
       "        vertical-align: middle;\n",
       "    }\n",
       "\n",
       "    .dataframe tbody tr th {\n",
       "        vertical-align: top;\n",
       "    }\n",
       "\n",
       "    .dataframe thead th {\n",
       "        text-align: right;\n",
       "    }\n",
       "</style>\n",
       "<table border=\"1\" class=\"dataframe\">\n",
       "  <thead>\n",
       "    <tr style=\"text-align: right;\">\n",
       "      <th></th>\n",
       "      <th>Class of hydrocarbon</th>\n",
       "      <th>IUPAC name</th>\n",
       "      <th>Melting point</th>\n",
       "      <th>Boiling point</th>\n",
       "      <th>Density</th>\n",
       "      <th>Flash point</th>\n",
       "      <th>Autoignition temp</th>\n",
       "      <th>pubchem_id</th>\n",
       "      <th>smiles</th>\n",
       "    </tr>\n",
       "  </thead>\n",
       "  <tbody>\n",
       "    <tr>\n",
       "      <th>0</th>\n",
       "      <td>Trimetylalkane</td>\n",
       "      <td>2,2,4-Trimethylpentane</td>\n",
       "      <td>-107.0</td>\n",
       "      <td>99.0</td>\n",
       "      <td>0.69</td>\n",
       "      <td>NaN</td>\n",
       "      <td>396</td>\n",
       "      <td>10907</td>\n",
       "      <td>CC(C)CC(C)(C)C</td>\n",
       "    </tr>\n",
       "    <tr>\n",
       "      <th>1</th>\n",
       "      <td>Triaromatics</td>\n",
       "      <td>Phenanthrene</td>\n",
       "      <td>99.0</td>\n",
       "      <td>338.0</td>\n",
       "      <td>1.18</td>\n",
       "      <td>171</td>\n",
       "      <td>&gt;450</td>\n",
       "      <td>995</td>\n",
       "      <td>C1=CC=C2C(=C1)C=CC3=CC=CC=C32</td>\n",
       "    </tr>\n",
       "    <tr>\n",
       "      <th>2</th>\n",
       "      <td>Triaromatics</td>\n",
       "      <td>Anthracene</td>\n",
       "      <td>216.0</td>\n",
       "      <td>341.0</td>\n",
       "      <td>1.2825</td>\n",
       "      <td>NaN</td>\n",
       "      <td>NaN</td>\n",
       "      <td>8418</td>\n",
       "      <td>C1=CC=C2C=C3C=CC=CC3=CC2=C1</td>\n",
       "    </tr>\n",
       "    <tr>\n",
       "      <th>3</th>\n",
       "      <td>Triaromatics</td>\n",
       "      <td>1-methylanthracene</td>\n",
       "      <td>86.0</td>\n",
       "      <td>342.0</td>\n",
       "      <td>1.04799</td>\n",
       "      <td>NaN</td>\n",
       "      <td>NaN</td>\n",
       "      <td>11884</td>\n",
       "      <td>CC1=CC=CC2=CC3=CC=CC=C3C=C12</td>\n",
       "    </tr>\n",
       "    <tr>\n",
       "      <th>4</th>\n",
       "      <td>Triaromatics</td>\n",
       "      <td>2-methylanthracene</td>\n",
       "      <td>209.0</td>\n",
       "      <td>340.0</td>\n",
       "      <td>1.8</td>\n",
       "      <td>NaN</td>\n",
       "      <td>NaN</td>\n",
       "      <td>11936</td>\n",
       "      <td>CC1=CC2=CC3=CC=CC=C3C=C2C=C1</td>\n",
       "    </tr>\n",
       "  </tbody>\n",
       "</table>\n",
       "</div>"
      ],
      "text/plain": [
       "  Class of hydrocarbon              IUPAC name  Melting point  Boiling point  \\\n",
       "0       Trimetylalkane  2,2,4-Trimethylpentane         -107.0           99.0   \n",
       "1         Triaromatics            Phenanthrene           99.0          338.0   \n",
       "2         Triaromatics              Anthracene          216.0          341.0   \n",
       "3         Triaromatics      1-methylanthracene           86.0          342.0   \n",
       "4         Triaromatics      2-methylanthracene          209.0          340.0   \n",
       "\n",
       "   Density Flash point Autoignition temp  pubchem_id  \\\n",
       "0     0.69         NaN               396       10907   \n",
       "1     1.18         171              >450         995   \n",
       "2   1.2825         NaN               NaN        8418   \n",
       "3  1.04799         NaN               NaN       11884   \n",
       "4      1.8         NaN               NaN       11936   \n",
       "\n",
       "                          smiles  \n",
       "0                 CC(C)CC(C)(C)C  \n",
       "1  C1=CC=C2C(=C1)C=CC3=CC=CC=C32  \n",
       "2    C1=CC=C2C=C3C=CC=CC3=CC2=C1  \n",
       "3   CC1=CC=CC2=CC3=CC=CC=C3C=C12  \n",
       "4   CC1=CC2=CC3=CC=CC=C3C=C2C=C1  "
      ]
     },
     "execution_count": 263,
     "metadata": {},
     "output_type": "execute_result"
    }
   ],
   "source": [
    "df = pd.read_csv(\"hydrocarbons.csv\") # Loading our data\n",
    "df.head(5)\n",
    "# print(df[\"Flash point\"])"
   ]
  },
  {
   "cell_type": "markdown",
   "id": "6d34dd29-e454-4d61-98b0-3b3e69ada19f",
   "metadata": {},
   "source": [
    "# Creating dataset\n",
    "In this section we are creating a new dataset that will have Atomic weight and Aromatic Rings. We will get the Atomic Weight and Aromatic Rings through the smiles that we have in our hydrocarbons Dataframe (df). We will loop through the smiles in our Dataframe so that we can convert every smile to a molecule, of which this will enable us to get the molecular weight and aromatic rings of a given molecule through the use of Descriptors, then append them to their respective arrays that we declared initially. After getting the Atomic_Weight and Aromatic_Rings of every molecule, we are going to create a new columns that will contain both of these respectively."
   ]
  },
  {
   "cell_type": "code",
   "execution_count": 276,
   "id": "0392de8a-c93d-4957-bcfa-92641d140b7b",
   "metadata": {},
   "outputs": [
    {
     "data": {
      "text/html": [
       "<div>\n",
       "<style scoped>\n",
       "    .dataframe tbody tr th:only-of-type {\n",
       "        vertical-align: middle;\n",
       "    }\n",
       "\n",
       "    .dataframe tbody tr th {\n",
       "        vertical-align: top;\n",
       "    }\n",
       "\n",
       "    .dataframe thead th {\n",
       "        text-align: right;\n",
       "    }\n",
       "</style>\n",
       "<table border=\"1\" class=\"dataframe\">\n",
       "  <thead>\n",
       "    <tr style=\"text-align: right;\">\n",
       "      <th></th>\n",
       "      <th>Class of hydrocarbon</th>\n",
       "      <th>IUPAC name</th>\n",
       "      <th>Melting point</th>\n",
       "      <th>Boiling point</th>\n",
       "      <th>Density</th>\n",
       "      <th>Flash point</th>\n",
       "      <th>Autoignition temp</th>\n",
       "      <th>pubchem_id</th>\n",
       "      <th>smiles</th>\n",
       "      <th>Atomic_Weight</th>\n",
       "      <th>Aromatic_Rings</th>\n",
       "    </tr>\n",
       "  </thead>\n",
       "  <tbody>\n",
       "    <tr>\n",
       "      <th>1</th>\n",
       "      <td>Triaromatics</td>\n",
       "      <td>Phenanthrene</td>\n",
       "      <td>99.0</td>\n",
       "      <td>338.0</td>\n",
       "      <td>1.18</td>\n",
       "      <td>171</td>\n",
       "      <td>&gt;450</td>\n",
       "      <td>995</td>\n",
       "      <td>C1=CC=C2C(=C1)C=CC3=CC=CC=C32</td>\n",
       "      <td>178.234</td>\n",
       "      <td>3</td>\n",
       "    </tr>\n",
       "    <tr>\n",
       "      <th>11</th>\n",
       "      <td>N-alkane</td>\n",
       "      <td>Methane</td>\n",
       "      <td>-183.0</td>\n",
       "      <td>-162.0</td>\n",
       "      <td>-</td>\n",
       "      <td>-135</td>\n",
       "      <td>595</td>\n",
       "      <td>297</td>\n",
       "      <td>C</td>\n",
       "      <td>16.043</td>\n",
       "      <td>0</td>\n",
       "    </tr>\n",
       "    <tr>\n",
       "      <th>12</th>\n",
       "      <td>N-alkane</td>\n",
       "      <td>Ethane</td>\n",
       "      <td>-183.0</td>\n",
       "      <td>-89.0</td>\n",
       "      <td>-</td>\n",
       "      <td>-135</td>\n",
       "      <td>515</td>\n",
       "      <td>6324</td>\n",
       "      <td>CC</td>\n",
       "      <td>30.070</td>\n",
       "      <td>0</td>\n",
       "    </tr>\n",
       "    <tr>\n",
       "      <th>13</th>\n",
       "      <td>N-alkane</td>\n",
       "      <td>Propane</td>\n",
       "      <td>-188.0</td>\n",
       "      <td>-42.0</td>\n",
       "      <td>0.498</td>\n",
       "      <td>-104</td>\n",
       "      <td>470</td>\n",
       "      <td>6334</td>\n",
       "      <td>CCC</td>\n",
       "      <td>44.097</td>\n",
       "      <td>0</td>\n",
       "    </tr>\n",
       "    <tr>\n",
       "      <th>14</th>\n",
       "      <td>N-alkane</td>\n",
       "      <td>N-butane</td>\n",
       "      <td>-138.0</td>\n",
       "      <td>-1.0</td>\n",
       "      <td>0.577</td>\n",
       "      <td>-60</td>\n",
       "      <td>365</td>\n",
       "      <td>7843</td>\n",
       "      <td>CCCC</td>\n",
       "      <td>58.124</td>\n",
       "      <td>0</td>\n",
       "    </tr>\n",
       "  </tbody>\n",
       "</table>\n",
       "</div>"
      ],
      "text/plain": [
       "   Class of hydrocarbon    IUPAC name  Melting point  Boiling point Density  \\\n",
       "1          Triaromatics  Phenanthrene           99.0          338.0    1.18   \n",
       "11             N-alkane       Methane         -183.0         -162.0       -   \n",
       "12             N-alkane        Ethane         -183.0          -89.0       -   \n",
       "13             N-alkane       Propane         -188.0          -42.0   0.498   \n",
       "14             N-alkane      N-butane         -138.0           -1.0   0.577   \n",
       "\n",
       "   Flash point Autoignition temp  pubchem_id                         smiles  \\\n",
       "1          171              >450         995  C1=CC=C2C(=C1)C=CC3=CC=CC=C32   \n",
       "11        -135               595         297                              C   \n",
       "12        -135               515        6324                             CC   \n",
       "13        -104               470        6334                            CCC   \n",
       "14         -60               365        7843                           CCCC   \n",
       "\n",
       "    Atomic_Weight  Aromatic_Rings  \n",
       "1         178.234               3  \n",
       "11         16.043               0  \n",
       "12         30.070               0  \n",
       "13         44.097               0  \n",
       "14         58.124               0  "
      ]
     },
     "execution_count": 276,
     "metadata": {},
     "output_type": "execute_result"
    }
   ],
   "source": [
    "#Creating a new dataset\n",
    "smiles = np.asarray(df[\"smiles\"])\n",
    "smiles\n",
    "len(smiles)\n",
    "molecular_weight = [] #Declaring an empty array for storing our molecular weight\n",
    "aromatic_rings_list = [] #Declaring an empty array for storing aromatic rings\n",
    "\n",
    "for x in range(len(smiles)):\n",
    "    # print(smiles[x])\n",
    "    molecules = Chem.MolFromSmiles(smiles[x]) #Converting smile in position x to a molecule\n",
    "    \n",
    "    mol_weight = Chem.Descriptors.MolWt(molecules) #Getting the atomic weight of a smile\n",
    "    aromatic_rings = Descriptors.NumAromaticRings(molecules) #Getting the number of aromatic rings of a molecule\n",
    "    \n",
    "    molecular_weight.append(mol_weight)\n",
    "    aromatic_rings_list.append(aromatic_rings)\n",
    "    # print(aromatic_rings)\n",
    "    # print(mol_weight)\n",
    "    # print(aromatic_rings)\n",
    "\n",
    "# print(molecular_weight)\n",
    "# print(aromagtic_rings_list)\n",
    "\n",
    "df[\"Atomic_Weight\"] = molecular_weight #Creating a new column in our existing dataset called Atomic Weight that will store atomic weights\n",
    "df[\"Aromatic_Rings\"] = aromatic_rings_list #Creating a new column in our existing dataset called Aromatic_Rings that will store the number of aromatic rings\n",
    "df = df[df.notna().all(axis=1)] #Taking all the rows that do not have null values\n",
    "df.head(5)"
   ]
  },
  {
   "cell_type": "code",
   "execution_count": 278,
   "id": "4d759193-7d52-423a-80df-5a81f4a82cb2",
   "metadata": {
    "scrolled": true
   },
   "outputs": [
    {
     "name": "stdout",
     "output_type": "stream",
     "text": [
      "<class 'pandas.core.frame.DataFrame'>\n",
      "Index: 54 entries, 1 to 185\n",
      "Data columns (total 11 columns):\n",
      " #   Column                Non-Null Count  Dtype  \n",
      "---  ------                --------------  -----  \n",
      " 0   Class of hydrocarbon  54 non-null     object \n",
      " 1   IUPAC name            54 non-null     object \n",
      " 2   Melting point         54 non-null     float64\n",
      " 3   Boiling point         54 non-null     float64\n",
      " 4   Density               54 non-null     object \n",
      " 5   Flash point           54 non-null     object \n",
      " 6   Autoignition temp     54 non-null     object \n",
      " 7   pubchem_id            54 non-null     int64  \n",
      " 8   smiles                54 non-null     object \n",
      " 9   Atomic_Weight         54 non-null     float64\n",
      " 10  Aromatic_Rings        54 non-null     int64  \n",
      "dtypes: float64(3), int64(2), object(6)\n",
      "memory usage: 5.1+ KB\n"
     ]
    }
   ],
   "source": [
    "#Lets check how many nulls do we have in our attributes from the hydrocarbons dataset as a whole\n",
    "df.info()"
   ]
  },
  {
   "cell_type": "code",
   "execution_count": null,
   "id": "46e34899-4db6-48d7-bf5a-a362bae0b1ea",
   "metadata": {},
   "outputs": [],
   "source": []
  },
  {
   "cell_type": "markdown",
   "id": "c442524a-ecb8-43f1-b6ca-efe36a1e1bf0",
   "metadata": {},
   "source": [
    "# Features and outputs declaration\n",
    "Based on the null values infomation of this data above, we can see that we have about 54 non-null rows that do not have any null values, meaning that this is the data that we are going to work with.\n",
    "\n",
    "As stated in the question, our features should be Atomic Weight and Aromatic Rings, this is the reason why we are dropping every column except Atomic Weight and Aromatic Rings when declaring our features.\n",
    "\n",
    "We have 2 target values below as our we have 2 targets (Melting point and Boiling Point).\n",
    "\n",
    "We further split the dataset into training and testing below.\n"
   ]
  },
  {
   "cell_type": "code",
   "execution_count": 254,
   "id": "195f8d9f-51ac-4273-9d64-e4b18f761580",
   "metadata": {},
   "outputs": [
    {
     "name": "stdout",
     "output_type": "stream",
     "text": [
      "     Melting point\n",
      "1             99.0\n",
      "11          -183.0\n",
      "12          -183.0\n",
      "13          -188.0\n",
      "14          -138.0\n",
      "15          -130.0\n",
      "16           -95.0\n",
      "17           -91.0\n",
      "18           -57.0\n",
      "19           -53.0\n",
      "20           -30.0\n",
      "21           -26.0\n",
      "22           -10.0\n",
      "50            80.0\n",
      "51           -31.0\n",
      "59            35.0\n",
      "71          -135.0\n",
      "72          -104.0\n",
      "77           -94.0\n",
      "78             7.0\n",
      "80            15.0\n",
      "83          -142.0\n",
      "93          -127.0\n",
      "95           -95.0\n",
      "96           -75.0\n",
      "107            6.0\n",
      "108          -95.0\n",
      "110          -24.0\n",
      "111          -48.0\n",
      "112           13.0\n",
      "113         -100.0\n",
      "114          -88.0\n",
      "128         -118.0\n",
      "129         -119.0\n",
      "130         -121.0\n",
      "135         -140.0\n",
      "137         -136.0\n",
      "143         -160.0\n",
      "144         -160.0\n",
      "145         -154.0\n",
      "146         -118.0\n",
      "155          -17.0\n",
      "156         -100.0\n",
      "157         -123.0\n",
      "164         -132.0\n",
      "165          -81.0\n",
      "176         -185.0\n",
      "177         -185.0\n",
      "178         -165.0\n",
      "179         -140.0\n",
      "180         -119.0\n",
      "181         -102.0\n",
      "183          -66.0\n",
      "185          -35.0\n",
      "\n",
      "     Atomic_Weight  Aromatic_Rings\n",
      "1          178.234               3\n",
      "11          16.043               0\n",
      "12          30.070               0\n",
      "13          44.097               0\n",
      "14          58.124               0\n",
      "15          72.151               0\n",
      "16          86.178               0\n",
      "17         100.205               0\n",
      "18         114.232               0\n",
      "19         128.259               0\n",
      "20         142.286               0\n",
      "21         156.313               0\n",
      "22         170.340               0\n",
      "50         128.174               2\n",
      "51         142.201               2\n",
      "59         142.201               2\n",
      "71          68.119               0\n",
      "72          82.146               0\n",
      "77          70.135               0\n",
      "78          84.162               0\n",
      "80         112.216               0\n",
      "83          84.162               0\n",
      "93          98.189               0\n",
      "95         126.243               0\n",
      "96         140.270               0\n",
      "107         78.114               1\n",
      "108         92.141               1\n",
      "110        106.168               1\n",
      "111        106.168               1\n",
      "112        106.168               1\n",
      "113        120.195               1\n",
      "114        134.222               1\n",
      "128         86.178               0\n",
      "129        100.205               0\n",
      "130        114.232               0\n",
      "135         56.108               0\n",
      "137         84.162               0\n",
      "143         58.124               0\n",
      "144         72.151               0\n",
      "145         86.178               0\n",
      "146        100.205               0\n",
      "155         72.151               0\n",
      "156         86.178               0\n",
      "157        100.205               0\n",
      "164         82.146               0\n",
      "165         96.173               0\n",
      "176         42.081               0\n",
      "177         56.108               0\n",
      "178         70.135               0\n",
      "179         84.162               0\n",
      "180         98.189               0\n",
      "181        112.216               0\n",
      "183        140.270               0\n",
      "185        168.324               0\n",
      "Training shape :  (43, 2) (11, 2)\n",
      "Melting shapes :  (43, 1) (11, 1)\n",
      "Boiling shapes :  (43, 1) (11, 1)\n"
     ]
    }
   ],
   "source": [
    "X = df.drop([\"Class of hydrocarbon\",\"Melting point\", \"Boiling point\",\"IUPAC name\", \"Flash point\", \"Autoignition temp\",\"pubchem_id\", \"smiles\",\"Density\"],axis=1)\n",
    "y_melting_point = df[[\"Melting point\"]]\n",
    "y_boiling_point = df[[\"Boiling point\"]]\n",
    "\n",
    "print(y_melting_point)\n",
    "print()\n",
    "print(X)\n",
    "\n",
    "#Splitting the dataset\n",
    "X_train, X_test, y_train_melting, y_test_melting = train_test_split(X, y_melting_point, test_size= 0.2, random_state = 42)\n",
    "X_train, X_test, y_train_boiling, y_test_boiling = train_test_split(X, y_boiling_point, test_size= 0.2, random_state = 42)\n",
    "\n",
    "\n",
    "print(\"Training shape : \",X_train.shape, X_test.shape)\n",
    "print(\"Melting shapes : \",y_train_melting.shape, y_test_melting.shape)\n",
    "print(\"Boiling shapes : \",y_train_boiling.shape, y_test_boiling.shape)\n",
    "\n",
    "# print(\"Y data types\",y.dtypes)\n",
    "# print(\"X data types\",X.dtypes)\n"
   ]
  },
  {
   "cell_type": "markdown",
   "id": "8c2fe9d8-fcb3-450a-84c7-a6175176bb50",
   "metadata": {},
   "source": [
    "# Melting Point\n",
    "The model we are selecting is the linear regression as we are dealing with continous targets."
   ]
  },
  {
   "cell_type": "code",
   "execution_count": 283,
   "id": "86bf7a8f-5e57-466d-9a5b-91e36f9b0457",
   "metadata": {},
   "outputs": [
    {
     "name": "stdout",
     "output_type": "stream",
     "text": [
      "[[-115.02621466]\n",
      " [-115.02621466]\n",
      " [-128.86239852]\n",
      " [ -30.0205361 ]\n",
      " [-117.01479003]\n",
      " [-126.87382316]\n",
      " [-117.01479003]\n",
      " [ -59.6814792 ]\n",
      " [-154.54619089]\n",
      " [-113.03763929]\n",
      " [   5.05754922]]\n"
     ]
    }
   ],
   "source": [
    "lm = linear_model.LinearRegression() #Defining our model\n",
    "lm.fit(X_train, y_train_melting) #Training our model for melting points\n",
    "y_melting_pred = lm.predict(X_test) #Predicting the melting point values using our trained data model\n",
    "print(y_melting_pred)"
   ]
  },
  {
   "cell_type": "markdown",
   "id": "e8cf89fb-084b-48ba-beaa-08e277498f98",
   "metadata": {},
   "source": [
    "## Melting Point evaluation\n",
    "Based on the results below, the prediction equation is given as : y = 0.98639651(Atomic_Weight) + 38.33524031(Aromatic_Ring) - 198.04331785. \n",
    "\n",
    "And we can see that the feature with the most importance is Aromatic Ring."
   ]
  },
  {
   "cell_type": "code",
   "execution_count": 248,
   "id": "0237d130-a261-4007-8408-66d31fb2c3cf",
   "metadata": {},
   "outputs": [
    {
     "name": "stdout",
     "output_type": "stream",
     "text": [
      "Coefficients                      \t: [[ 0.98639651 38.33524031]]\n",
      "Intercepts                        \t: [-198.04331785]\n",
      "Mean squared error                \t: 2220.421\n",
      "Root mean squared error (RMSE)    \t: 47.121\n",
      "Coefficient of determination (R^2)\t: 0.637\n"
     ]
    }
   ],
   "source": [
    "#Model Evaluation for y_melting\n",
    "print(\"Coefficients                      \\t:\",lm.coef_)\n",
    "print(\"Intercepts                        \\t:\",lm.intercept_)\n",
    "print(\"Mean squared error                \\t:\",mean_squared_error(y_test_melting,y_melting_pred).round(3))\n",
    "print(\"Root mean squared error (RMSE)    \\t:\",np.sqrt(mean_squared_error(y_test_melting,y_melting_pred)).round(3))\n",
    "print(\"Coefficient of determination (R^2)\\t:\",r2_score(y_test_melting,y_melting_pred).round(3))"
   ]
  },
  {
   "cell_type": "markdown",
   "id": "ccd423a0-dccf-481d-abf3-09b1406d1f93",
   "metadata": {},
   "source": [
    "## Visualising the evaluation : Melting Point\n",
    "Based on the scatter plot below we can see that the lower the values are, the smaller the error is towards our regression line in comparison to when the values are bigger. Our model performs well as we see a clutter of values in the bottom of our regression line."
   ]
  },
  {
   "cell_type": "code",
   "execution_count": 250,
   "id": "8fda44d6-c5aa-4816-bde2-aa76d7ff53a5",
   "metadata": {},
   "outputs": [
    {
     "name": "stdout",
     "output_type": "stream",
     "text": [
      "    Melting Point  Predicted Melting Point\n",
      "0             7.0              -115.026215\n",
      "1          -140.0              -115.026215\n",
      "2          -165.0              -128.862399\n",
      "3           -10.0               -30.020536\n",
      "4          -132.0              -117.014790\n",
      "5          -130.0              -126.873823\n",
      "6          -104.0              -117.014790\n",
      "7           -66.0               -59.681479\n",
      "8          -188.0              -154.546191\n",
      "9          -118.0              -113.037639\n",
      "10           80.0                 5.057549\n"
     ]
    },
    {
     "data": {
      "text/plain": [
       "<Axes: xlabel='Melting Point', ylabel='Predicted Melting Point'>"
      ]
     },
     "execution_count": 250,
     "metadata": {},
     "output_type": "execute_result"
    },
    {
     "data": {
      "image/png": "[encoded data removed]",
      "text/plain": [
       "<Figure size 640x480 with 1 Axes>"
      ]
     },
     "metadata": {},
     "output_type": "display_data"
    }
   ],
   "source": [
    "y_test_melting_conv = np.array(y_test_melting).ravel()\n",
    "y_melting_pred_conv = np.array(y_melting_pred).ravel()\n",
    "scatter_data = pd.DataFrame({\"Melting Point\": y_test_melting_conv, \"Predicted Melting Point\": y_melting_pred_conv})\n",
    "print(scatter_data.head(20))\n",
    "sns.regplot(x=\"Melting Point\", y=\"Predicted Melting Point\", data=scatter_data)\n"
   ]
  },
  {
   "cell_type": "markdown",
   "id": "5c0f5e76-9de4-4416-8092-7c96f3fe0fc4",
   "metadata": {},
   "source": [
    "# Boiling Point\n",
    "We are also using the linear regression for the Boiling point as well as our targets are still continous."
   ]
  },
  {
   "cell_type": "code",
   "execution_count": 265,
   "id": "132120db-3146-49fa-9bf8-e841a65ce4fc",
   "metadata": {},
   "outputs": [
    {
     "name": "stdout",
     "output_type": "stream",
     "text": [
      "[[ 54.55700899]\n",
      " [ 54.55700899]\n",
      " [ 22.64740998]\n",
      " [250.60074061]\n",
      " [ 49.97087142]\n",
      " [ 27.23354754]\n",
      " [ 49.97087142]\n",
      " [182.19540503]\n",
      " [-36.58565048]\n",
      " [ 59.14314655]\n",
      " [208.48249933]]\n"
     ]
    }
   ],
   "source": [
    "lm.fit(X_train, y_train_boiling) #Training our model for boiling points\n",
    "y_boiling_pred = lm.predict(X_test) #Predicting the boiling point values using our trained data model\n",
    "print(y_boiling_pred)"
   ]
  },
  {
   "cell_type": "markdown",
   "id": "fbf512fe-8bca-4a62-9c15-552eef7d8547",
   "metadata": {},
   "source": [
    "## Boiling Point Evaluation\n",
    "The prediction equation for our model is : y = 2.27486982(Atomic_Weight) + 26.90195984(Aromatic_Ring) - 136.90058508 as per the evaluation results below.\n",
    "\n",
    "The feature with the most importance is Aromatic Ring as well."
   ]
  },
  {
   "cell_type": "code",
   "execution_count": 267,
   "id": "3f55b411-5efc-435f-8649-d9e842f680ff",
   "metadata": {},
   "outputs": [
    {
     "name": "stdout",
     "output_type": "stream",
     "text": [
      "Coefficients                      \t: [[ 2.27486982 26.90195984]]\n",
      "Intercepts                        \t: [-136.90058508]\n",
      "Mean squared error                \t: 353.49\n",
      "Root mean squared error (RMSE)    \t: 18.801\n",
      "Coefficient of determination (R^2)\t: 0.94\n"
     ]
    }
   ],
   "source": [
    "print(\"Coefficients                      \\t:\",lm.coef_)\n",
    "print(\"Intercepts                        \\t:\",lm.intercept_)\n",
    "print(\"Mean squared error                \\t:\",mean_squared_error(y_test_boiling,y_boiling_pred).round(3))\n",
    "print(\"Root mean squared error (RMSE)    \\t:\",np.sqrt(mean_squared_error(y_test_boiling,y_boiling_pred)).round(3))\n",
    "print(\"Coefficient of determination (R^2)\\t:\",r2_score(y_test_boiling,y_boiling_pred).round(3))"
   ]
  },
  {
   "cell_type": "markdown",
   "id": "bdcdef59-f7e9-4f29-86e0-d6c39204288b",
   "metadata": {},
   "source": [
    "## Visualising the evaluation : Boiling Point\n",
    "The scatter plot below shows that the boiling points between 30 - 100 are the most accurate when they are predicted by our model."
   ]
  },
  {
   "cell_type": "code",
   "execution_count": 269,
   "id": "a77bdc6d-3e2b-4e2c-b616-66e1d2806c50",
   "metadata": {},
   "outputs": [
    {
     "name": "stdout",
     "output_type": "stream",
     "text": [
      "    Boiling Point  Predicted Boiling Point\n",
      "0            81.0                54.557009\n",
      "1            64.0                54.557009\n",
      "2            30.0                22.647410\n",
      "3           216.0               250.600741\n",
      "4            71.0                49.970871\n",
      "5            36.0                27.233548\n",
      "6            83.0                49.970871\n",
      "7           172.0               182.195405\n",
      "8           -42.0               -36.585650\n",
      "9            63.0                59.143147\n",
      "10          218.0               208.482499\n"
     ]
    },
    {
     "data": {
      "text/plain": [
       "<Axes: xlabel='Boiling Point', ylabel='Predicted Boiling Point'>"
      ]
     },
     "execution_count": 269,
     "metadata": {},
     "output_type": "execute_result"
    },
    {
     "data": {
      "image/png": "[encoded data removed]",
      "text/plain": [
       "<Figure size 640x480 with 1 Axes>"
      ]
     },
     "metadata": {},
     "output_type": "display_data"
    }
   ],
   "source": [
    "y_test_boiling_conv = np.array(y_test_boiling).ravel()\n",
    "y_boiling_pred_conv = np.array(y_boiling_pred).ravel()\n",
    "scatter_data = pd.DataFrame({\"Boiling Point\": y_test_boiling_conv, \"Predicted Boiling Point\": y_boiling_pred_conv})\n",
    "print(scatter_data.head(20))\n",
    "sns.regplot(x=\"Boiling Point\", y=\"Predicted Boiling Point\", data=scatter_data)\n"
   ]
  },
  {
   "cell_type": "markdown",
   "id": "fdc6633a-54aa-4b8e-a4ab-9cc287678e9d",
   "metadata": {},
   "source": [
    "# Challenges \n",
    "i) Not knowing what to do with the NaN values as the data contained a lot of these NaN values.\n",
    "\n",
    "ii) Initially I wanted to combine the targets as one target but I was not sure how to do that hence I opted to use separate targets.\n",
    "\n",
    "# Potential Improvments\n",
    "i) I think it is possible to combine both the targets into one rather than having two seperate y_values for different targets. "
   ]
  }
 ],
 "metadata": {
  "kernelspec": {
   "display_name": "Python 3 (ipykernel)",
   "language": "python",
   "name": "python3"
  },
  "language_info": {
   "codemirror_mode": {
    "name": "ipython",
    "version": 3
   },
   "file_extension": ".py",
   "mimetype": "text/x-python",
   "name": "python",
   "nbconvert_exporter": "python",
   "pygments_lexer": "ipython3",
   "version": "3.12.3"
  }
 },
 "nbformat": 4,
 "nbformat_minor": 5
}
